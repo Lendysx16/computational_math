{
 "cells": [
  {
   "cell_type": "code",
   "execution_count": 1,
   "id": "89ea4e10-e7bd-4377-8841-10cd0a9b2d7c",
   "metadata": {},
   "outputs": [],
   "source": [
    "import numpy as np\n",
    "import scipy "
   ]
  },
  {
   "cell_type": "code",
   "execution_count": 2,
   "id": "e5b44e22-fe25-43bd-b2d6-ce3dbcf6f481",
   "metadata": {
    "tags": []
   },
   "outputs": [],
   "source": [
    "def f(x):\n",
    "    return 0.5 * np.cos(2*x) * np.exp(2*x/5) + 2.4 * np.sin(1.5 *x) * np. exp(-6* x) + 6* x"
   ]
  },
  {
   "cell_type": "code",
   "execution_count": 3,
   "id": "91797f3f-8179-4814-a592-5e53303c92f7",
   "metadata": {
    "tags": []
   },
   "outputs": [],
   "source": [
    "def omg(x , n = 3, a = 1.1, b = 2.5):\n",
    "    res = 1\n",
    "    for i in range(n):\n",
    "        res*=(x - a+(b-a)*i/(n-1))\n",
    "    return res"
   ]
  },
  {
   "cell_type": "code",
   "execution_count": 4,
   "id": "a3794974-c8b8-423d-ac4c-e333009e3abf",
   "metadata": {
    "tags": []
   },
   "outputs": [],
   "source": [
    "def p(x, a = 1.1, b = 2.5):\n",
    "    return (x-a)**(-2/5)"
   ]
  },
  {
   "cell_type": "code",
   "execution_count": 5,
   "id": "8071f818-9e0d-4457-bb32-7dec973e5fa4",
   "metadata": {},
   "outputs": [],
   "source": [
    "def mu(k, a = 0, b = 1.4):\n",
    "    return b**(k+3/5)/(k+3/5) - a**(k+3/5)/(k+3/5)"
   ]
  },
  {
   "cell_type": "code",
   "execution_count": 6,
   "id": "b9d134e6-d00f-4ace-9331-0c6861860122",
   "metadata": {
    "tags": []
   },
   "outputs": [],
   "source": [
    "def sIQF_NewtonKots(a = 1.1, z1 = 1.1, z2 = 2.5, n = 3):\n",
    "    m = np.zeros_like(n, shape = n, dtype = float)\n",
    "    for i in range(n):\n",
    "        m[i] = mu(i, z1 - a, z2 - a)\n",
    "    X = np.zeros_like(n^2, shape = (n,n), dtype = float)    \n",
    "    for i in range(n):\n",
    "        for j in range(n):\n",
    "            X[i][j] = ((z1-a) + (z2-z1)*j/(n-1))**i\n",
    "    A = np.linalg.solve(X, m)\n",
    "    S = 0\n",
    "    for i in range(n):\n",
    "        S+=A[i]*f(X[1][i] + a)\n",
    "    return S"
   ]
  },
  {
   "cell_type": "code",
   "execution_count": 7,
   "id": "7ecd1834-e942-4028-be5f-e963a0290432",
   "metadata": {},
   "outputs": [],
   "source": [
    "def cIQF_NewtonKots(a = 1.1, b = 2.5, n = 3, k = 6):\n",
    "    res = 0\n",
    "    for i in range(k):\n",
    "        add = sIQF_NewtonKots(a,a+(b-a)*i/k, a+(b-a)*(i+1)/k, n) \n",
    "        res+=add\n",
    "    return res"
   ]
  },
  {
   "cell_type": "code",
   "execution_count": 8,
   "id": "85b9a86a-d9e4-44a8-8d62-1202f87c0552",
   "metadata": {},
   "outputs": [],
   "source": [
    "def Etkin(Sh, L = 2):\n",
    "    return -np.log(abs((Sh[-1]-Sh[-2])/(Sh[-2]-Sh[-3])))/np.log(L)"
   ]
  },
  {
   "cell_type": "code",
   "execution_count": 9,
   "id": "991dffca-0d6b-4fbc-80f0-b69c03f98d08",
   "metadata": {},
   "outputs": [],
   "source": [
    "def Richardson(Sh, h0 = 0.9, L = 2):\n",
    "    m = Etkin(Sh)\n",
    "    n = len(Sh)\n",
    "    A = np.zeros_like(n**2, shape = (n,n), dtype = float)\n",
    "    for i in range(n):\n",
    "        for j in range(n-1):\n",
    "            A[i][j] = (h0/L**i)**(m+j)\n",
    "        A[i][n-1] = 1\n",
    "    x = np.linalg.solve(A, Sh)\n",
    "    return x[-1]"
   ]
  },
  {
   "cell_type": "code",
   "execution_count": 10,
   "id": "5ca22c3c-a7b3-4e11-983a-4357b2e77c5d",
   "metadata": {},
   "outputs": [],
   "source": [
    "def Runge(Sh, L = 2):\n",
    "    m = Etkin(Sh)\n",
    "    Rh = [(Sh[-1] - Sh[-2])/(1-L**(-m)), (Sh[-1] - Sh[-2])/(-1+L**(m))]\n",
    "    return Rh"
   ]
  },
  {
   "cell_type": "code",
   "execution_count": 11,
   "id": "07581ef3-926b-4dab-8cd1-614724ce6b03",
   "metadata": {},
   "outputs": [
    {
     "name": "stdout",
     "output_type": "stream",
     "text": [
      "18.60294785732012\n"
     ]
    }
   ],
   "source": [
    "acc = scipy.integrate.quad(lambda x: f(x)*p(x),1.1,2.5)[0]\n",
    "print(acc)"
   ]
  },
  {
   "cell_type": "code",
   "execution_count": 12,
   "id": "1bfe107c-eb84-4fda-94c5-267de41a2c50",
   "metadata": {
    "tags": []
   },
   "outputs": [
    {
     "data": {
      "text/plain": [
       "18.55804137623109"
      ]
     },
     "execution_count": 12,
     "metadata": {},
     "output_type": "execute_result"
    }
   ],
   "source": [
    "#Малая ИКФ типа Ньютона-Котса\n",
    "sIQF_NewtonKots()"
   ]
  },
  {
   "attachments": {},
   "cell_type": "markdown",
   "id": "10f1d0cc",
   "metadata": {},
   "source": []
  },
  {
   "attachments": {},
   "cell_type": "markdown",
   "id": "49d16172",
   "metadata": {},
   "source": [
    "## Составная ИКФ типа Ньютона-Котса"
   ]
  },
  {
   "cell_type": "code",
   "execution_count": 13,
   "id": "2b99d4bc-e7b7-4571-b6e4-9d9ed5875674",
   "metadata": {},
   "outputs": [
    {
     "name": "stdout",
     "output_type": "stream",
     "text": [
      "Шаг: 4 Вычисленное значение: 18.602944794025312 Ошибка: 3.1069164307950814e-06 Степень по Эйткину: 3.5306567120217025\n",
      "Шаг: 5 Вычисленное значение: 18.602947599346283 Ошибка: 2.597568702356057e-07 Степень по Эйткину: 3.556578606022004\n"
     ]
    }
   ],
   "source": [
    "\n",
    "a = 1.1\n",
    "b = 2.5\n",
    "eps = 1e-6\n",
    "Sh = [cIQF_NewtonKots(k=2), cIQF_NewtonKots(k=4), cIQF_NewtonKots(k=8)]\n",
    "Rh = [1.,1.,1.]\n",
    "c = 3;\n",
    "while(abs(Rh[-1])> eps):\n",
    "    c+=1\n",
    "    Sh.append(cIQF_NewtonKots(k=2**c))\n",
    "    m = Etkin(Sh)\n",
    "    Rh.append(Richardson(Sh, b - a)-Sh[-1])\n",
    "    print(\"Шаг:\", c, \"Вычисленное значение:\", Sh[-1], \"Ошибка:\", Rh[-1],\"Степень по Эйткину:\" , m)\n",
    "combNewton =  Sh[-1]"
   ]
  },
  {
   "attachments": {},
   "cell_type": "markdown",
   "id": "da3bee24",
   "metadata": {},
   "source": [
    "## Составная ИКФ типа Ньютона-Котса с выбором оптимального шага"
   ]
  },
  {
   "cell_type": "code",
   "execution_count": 14,
   "id": "246c76d9-6af9-4c5b-9e17-c5c530283e0c",
   "metadata": {},
   "outputs": [
    {
     "name": "stdout",
     "output_type": "stream",
     "text": [
      "Kopt = 52.0\n"
     ]
    },
    {
     "ename": "TypeError",
     "evalue": "'numpy.float64' object cannot be interpreted as an integer",
     "output_type": "error",
     "traceback": [
      "\u001b[0;31m---------------------------------------------------------------------------\u001b[0m",
      "\u001b[0;31mTypeError\u001b[0m                                 Traceback (most recent call last)",
      "Cell \u001b[0;32mIn[14], line 11\u001b[0m\n\u001b[1;32m      9\u001b[0m Kopt \u001b[39m=\u001b[39m np\u001b[39m.\u001b[39mceil((b\u001b[39m-\u001b[39ma)\u001b[39m/\u001b[39m(np\u001b[39m.\u001b[39mmath\u001b[39m.\u001b[39mpow(eps\u001b[39m/\u001b[39m\u001b[39mabs\u001b[39m(Rh[\u001b[39m-\u001b[39m\u001b[39m1\u001b[39m]),\u001b[39m1\u001b[39m\u001b[39m/\u001b[39mm)\u001b[39m*\u001b[39m((b\u001b[39m-\u001b[39ma)\u001b[39m*\u001b[39m\u001b[39m2\u001b[39m\u001b[39m*\u001b[39m\u001b[39m*\u001b[39m(\u001b[39m-\u001b[39m\u001b[39m3\u001b[39m))\u001b[39m*\u001b[39m\u001b[39m0.95\u001b[39m))\n\u001b[1;32m     10\u001b[0m \u001b[39mprint\u001b[39m(\u001b[39m'\u001b[39m\u001b[39mKopt =\u001b[39m\u001b[39m'\u001b[39m, Kopt)\n\u001b[0;32m---> 11\u001b[0m Sh \u001b[39m=\u001b[39m [cIQF_NewtonKots(k \u001b[39m=\u001b[39;49m Kopt), cIQF_NewtonKots(k \u001b[39m=\u001b[39m Kopt\u001b[39m*\u001b[39m\u001b[39m2\u001b[39m)]\n\u001b[1;32m     12\u001b[0m Kopt\u001b[39m*\u001b[39m\u001b[39m=\u001b[39m\u001b[39m4\u001b[39m\n\u001b[1;32m     13\u001b[0m Rh\u001b[39m=\u001b[39m[\u001b[39m1.\u001b[39m]\n",
      "Cell \u001b[0;32mIn[7], line 3\u001b[0m, in \u001b[0;36mcIQF_NewtonKots\u001b[0;34m(a, b, n, k)\u001b[0m\n\u001b[1;32m      1\u001b[0m \u001b[39mdef\u001b[39;00m \u001b[39mcIQF_NewtonKots\u001b[39m(a \u001b[39m=\u001b[39m \u001b[39m1.1\u001b[39m, b \u001b[39m=\u001b[39m \u001b[39m2.5\u001b[39m, n \u001b[39m=\u001b[39m \u001b[39m3\u001b[39m, k \u001b[39m=\u001b[39m \u001b[39m6\u001b[39m):\n\u001b[1;32m      2\u001b[0m     res \u001b[39m=\u001b[39m \u001b[39m0\u001b[39m\n\u001b[0;32m----> 3\u001b[0m     \u001b[39mfor\u001b[39;00m i \u001b[39min\u001b[39;00m \u001b[39mrange\u001b[39m(k):\n\u001b[1;32m      4\u001b[0m         add \u001b[39m=\u001b[39m sIQF_NewtonKots(a,a\u001b[39m+\u001b[39m(b\u001b[39m-\u001b[39ma)\u001b[39m*\u001b[39mi\u001b[39m/\u001b[39mk, a\u001b[39m+\u001b[39m(b\u001b[39m-\u001b[39ma)\u001b[39m*\u001b[39m(i\u001b[39m+\u001b[39m\u001b[39m1\u001b[39m)\u001b[39m/\u001b[39mk, n) \n\u001b[1;32m      5\u001b[0m         res\u001b[39m+\u001b[39m\u001b[39m=\u001b[39madd\n",
      "\u001b[0;31mTypeError\u001b[0m: 'numpy.float64' object cannot be interpreted as an integer"
     ]
    }
   ],
   "source": [
    "\n",
    "a = 1.1\n",
    "b = 2.5\n",
    "eps = 1e-6\n",
    "Sh = [cIQF_NewtonKots(k=2), cIQF_NewtonKots(k=4), cIQF_NewtonKots(k=8)]\n",
    "\n",
    "Rh = [1.]\n",
    "m = Etkin(Sh)\n",
    "Rh+=Runge(Sh, (b-a)/2)\n",
    "Kopt = np.ceil((b-a)/(np.math.pow(eps/abs(Rh[-1]),1/m)*((b-a)*2**(-3))*0.95))\n",
    "print('Kopt =', Kopt)\n",
    "Sh = [cIQF_NewtonKots(k = Kopt), cIQF_NewtonKots(k = Kopt*2)]\n",
    "Kopt*=4\n",
    "Rh=[1.]\n",
    "c = 2\n",
    "while(abs(Rh[-1])> eps):\n",
    "    Sh.append(cIQF_NewtonKots(k=Kopt))\n",
    "    m = Etkin(Sh)\n",
    "    Rh.append(Richardson(Sh, b - a)-Sh[-1])\n",
    "    Kopt*=2\n",
    "    c+=1\n",
    "    print(\"Шаг:\", c, \"Вычисленное значение:\", Sh[-1], \"Ошибка:\", Rh[-1],\"Степень по Эйткину:\" , m)\n",
    "combNewton_withHopt =  Sh[-1]"
   ]
  },
  {
   "cell_type": "code",
   "execution_count": null,
   "id": "1136c1a4-1f06-4393-ae68-9d0c5c338794",
   "metadata": {},
   "outputs": [],
   "source": [
    "def sIQF_Gaus(a = 1.1, z1 = 1.1, z2 = 2.5, n = 3):\n",
    "    m = np.zeros_like(2*n, shape = 2*n, dtype = float)\n",
    "    for i in range(2*n):\n",
    "        m[i] = mu(i, z1 - a, z2 - a)\n",
    "   \n",
    "    X = np.zeros_like(n^2, shape = (n,n), dtype = float)\n",
    "    for i in range(n):\n",
    "        for j in range(n):\n",
    "            X[i][j] = m[i+j]\n",
    "            \n",
    "    b = -m[n:]\n",
    "    A = np.linalg.solve(X, b)\n",
    "    A = np.append(A, 1.)\n",
    "    A=A[::-1]\n",
    "    x = np.roots(A)\n",
    "    for i in range(n):\n",
    "        X[i][:] = x**i\n",
    "    m=m[0:n]\n",
    "    A = np.linalg.solve(X, m)\n",
    "    S = 0\n",
    "    for i in range(n):\n",
    "        S += A[i]*f(X[1][i] + a)\n",
    "    return S"
   ]
  },
  {
   "cell_type": "code",
   "execution_count": null,
   "id": "2d108532-03e4-4cbe-9bed-335e200bebd9",
   "metadata": {},
   "outputs": [],
   "source": [
    "def cIQF_Gaus(a = 1.1, b = 2.5, n = 3, k = 6):\n",
    "    res = 0\n",
    "    for i in range(k):\n",
    "        add = sIQF_Gaus(a,a+(b-a)*i/k, a+(b-a)*(i+1)/k, n) \n",
    "        res+=add\n",
    "    return res"
   ]
  },
  {
   "attachments": {},
   "cell_type": "markdown",
   "id": "7aba016c",
   "metadata": {},
   "source": [
    "## Простая ИКФ типа Гаусса"
   ]
  },
  {
   "cell_type": "code",
   "execution_count": null,
   "id": "cbac8f4b-dec8-421b-9bdf-45985e1014db",
   "metadata": {},
   "outputs": [
    {
     "data": {
      "text/plain": [
       "18.602517777238724"
      ]
     },
     "execution_count": 20,
     "metadata": {},
     "output_type": "execute_result"
    }
   ],
   "source": [
    "\n",
    "sIQF_Gaus()"
   ]
  },
  {
   "attachments": {},
   "cell_type": "markdown",
   "id": "fc59d277",
   "metadata": {},
   "source": [
    "## Составная ИКФ типа Гаусса"
   ]
  },
  {
   "cell_type": "code",
   "execution_count": null,
   "id": "d768d5f7-cfd9-4711-a3ee-8d456a7e836d",
   "metadata": {},
   "outputs": [
    {
     "name": "stdout",
     "output_type": "stream",
     "text": [
      "Шаг: 4 Вычисленное значение: 18.602947857299732 Ошибка: 1.858069254012662e-11 Степень по Эйткину: 6.035456874711196\n"
     ]
    }
   ],
   "source": [
    "\n",
    "a = 1.1\n",
    "b = 2.5\n",
    "eps = 1e-6\n",
    "Sh = [cIQF_Gaus(k=2), cIQF_Gaus(k=4), cIQF_Gaus(k=8)]\n",
    "Rh = [1.,1.,1.]\n",
    "c = 3;\n",
    "while(abs(Rh[-1])> eps):\n",
    "    c+=1\n",
    "    Sh.append(cIQF_Gaus(k=2**c))\n",
    "    m = Etkin(Sh)\n",
    "    Rh.append(Richardson(Sh, b - a)-Sh[-1])\n",
    "    print(\"Шаг:\", c, \"Вычисленное значение:\", Sh[-1], \"Ошибка:\", Rh[-1],\"Степень по Эйткину:\" , m)\n",
    "combNewton =  Sh[-1]"
   ]
  },
  {
   "attachments": {},
   "cell_type": "markdown",
   "id": "55ee3235",
   "metadata": {},
   "source": [
    "## Составная ИКФ типа Гаусса с выбором оптимального шага"
   ]
  },
  {
   "cell_type": "code",
   "execution_count": null,
   "id": "c98f1118-aeea-46d2-b94d-ad0c18de5e1b",
   "metadata": {},
   "outputs": [
    {
     "name": "stdout",
     "output_type": "stream",
     "text": [
      "Kopt = 6\n",
      "Шаг: 3 Вычисленное значение: 18.602947857316842 Ошибка: 1.623590151211829e-12 Степень по Эйткину: 6.024472760077107\n"
     ]
    }
   ],
   "source": [
    "\n",
    "a = 1.1\n",
    "b = 2.5\n",
    "eps = 1e-6\n",
    "Sh = [cIQF_Gaus(k=2), cIQF_Gaus(k=4), cIQF_Gaus(k=8)]\n",
    "\n",
    "Rh = [1.]\n",
    "m = Etkin(Sh)\n",
    "Rh+=Runge(Sh, (b-a)/2)\n",
    "Kopt = np.ceil((b-a)/(np.pow(eps/abs(Rh[-1]),1/m)*((b-a)*2**(-3))*0.95))\n",
    "print('Kopt =', Kopt)\n",
    "Sh = [cIQF_Gaus(k = Kopt), cIQF_Gaus(k = Kopt*2)]\n",
    "Kopt*=4\n",
    "Rh=[1.]\n",
    "c = 2\n",
    "while(abs(Rh[-1])> eps):\n",
    "    Sh.append(cIQF_Gaus(k=Kopt))\n",
    "    m = Etkin(Sh)\n",
    "    Rh.append(Richardson(Sh, b - a)-Sh[-1])\n",
    "    Kopt*=2\n",
    "    c+=1\n",
    "    print(\"Шаг:\", c, \"Вычисленное значение:\", Sh[-1], \"Ошибка:\", Rh[-1],\"Степень по Эйткину:\" , m)\n",
    "combNewton_withHopt =  Sh[-1]"
   ]
  }
 ],
 "metadata": {
  "kernelspec": {
   "display_name": "Python 3 (ipykernel)",
   "language": "python",
   "name": "python3"
  },
  "language_info": {
   "codemirror_mode": {
    "name": "ipython",
    "version": 3
   },
   "file_extension": ".py",
   "mimetype": "text/x-python",
   "name": "python",
   "nbconvert_exporter": "python",
   "pygments_lexer": "ipython3",
   "version": "3.11.2"
  }
 },
 "nbformat": 4,
 "nbformat_minor": 5
}
