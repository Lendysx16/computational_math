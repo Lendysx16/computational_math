{
 "cells": [
  {
   "cell_type": "code",
   "execution_count": 7,
   "metadata": {},
   "outputs": [],
   "source": [
    "import math\n",
    "from prettytable import PrettyTable"
   ]
  },
  {
   "cell_type": "code",
   "execution_count": 8,
   "metadata": {},
   "outputs": [],
   "source": [
    "def sqrt_(x, eps):\n",
    "    sign = x < 0\n",
    "    x = abs(x)\n",
    "    x_n = 1.0\n",
    "    result = 0\n",
    "    error = 999999999999999\n",
    "    while error > eps:\n",
    "        result = 0.5 * (x_n + x / x_n)\n",
    "        error = abs(result - x_n)\n",
    "        x_n = result\n",
    "    if sign:\n",
    "        result = -result\n",
    "    return result\n",
    "\n",
    "\n",
    "def pow_(x, n):\n",
    "    start_x = x\n",
    "    k = 1\n",
    "    while k < n:\n",
    "        if k + k <= n:\n",
    "            x *= x\n",
    "            k += k\n",
    "        else:\n",
    "            x *= start_x\n",
    "            k += 1\n",
    "    return x\n",
    "\n",
    "\n",
    "def cos_(x, eps):\n",
    "    result = 1\n",
    "    x_n = 1.0\n",
    "    sqr_x = x * x\n",
    "    i = 0.0\n",
    "    while abs(x_n) > eps:\n",
    "        i += 2\n",
    "        x_n *= -sqr_x / (i - 1) / i\n",
    "        result += x_n\n",
    "    return result\n",
    "\n",
    "\n",
    "def cosh_(x, eps):\n",
    "    result = 1.0\n",
    "    x_n = 1.0\n",
    "    i = 0.0\n",
    "    sqr_x = x * x\n",
    "    while abs(x_n) > eps:\n",
    "        i += 2\n",
    "        x_n *= x * x / (i - 1) / i\n",
    "        result += x_n\n",
    "    return result"
   ]
  },
  {
   "cell_type": "code",
   "execution_count": 9,
   "metadata": {},
   "outputs": [],
   "source": [
    "\n",
    "eps = 1e-6\n",
    "c1 = eps / 4.75\n",
    "c2 = c1 / (2 * 4.2)\n",
    "c3 = c1 / (2 * 0.9)\n",
    "\n",
    "\n",
    "def func_my(x):\n",
    "    res = cosh_(1 + sqrt_(1 + x, c2), c1 / 2) * \\\n",
    "        cos_(sqrt_(1 + x - x * x, c3), c1 / 2)\n",
    "    return res\n",
    "\n",
    "\n",
    "def func_math(x):\n",
    "    res = math.cosh(1 + math.sqrt(1 + x)) * math.cos(math.sqrt(1 + x - x * x))\n",
    "    return res"
   ]
  },
  {
   "cell_type": "code",
   "execution_count": 10,
   "metadata": {},
   "outputs": [
    {
     "name": "stdout",
     "output_type": "stream",
     "text": [
      "+------+------------------------+------------------------+------------------------+\n",
      "|  x   |        f_exact         |        f_approx        |         error          |\n",
      "+------+------------------------+------------------------+------------------------+\n",
      "| 0.1  | 1.98269189458078698429 | 1.98269189463098505222 | 0.00000000005019806792 |\n",
      "| 0.11 | 1.97888840073775962303 | 1.97888840079146954842 | 0.00000000005370992540 |\n",
      "| 0.12 | 1.97531675254445171497 | 1.97531675260174988118 | 0.00000000005729816621 |\n",
      "| 0.13 | 1.97198040343621205928 | 1.97198040349716707809 | 0.00000000006095501881 |\n",
      "| 0.14 | 1.96888281641538798183 | 1.96888281648006047142 | 0.00000000006467248959 |\n",
      "| 0.15 | 1.96602746521198956664 | 1.96602746528043104135 | 0.00000000006844147471 |\n",
      "| 0.16 | 1.96341783542739922730 | 1.96341783549965032130 | 0.00000000007225109400 |\n",
      "| 0.17 | 1.96105742566212692957 | 1.96105742573821806296 | 0.00000000007609113339 |\n",
      "| 0.18 | 1.95894974862858628484 | 1.95894974870853744164 | 0.00000000007995115681 |\n",
      "| 0.19 | 1.95709833224979168342 | 1.95709833233361041316 | 0.00000000008381872973 |\n",
      "| 0.2  | 1.95550672074485865082 | 1.95550672083254073463 | 0.00000000008768208382 |\n",
      "+------+------------------------+------------------------+------------------------+\n"
     ]
    }
   ],
   "source": [
    "result_table = PrettyTable(['x', 'f_exact', 'f_approx', 'error'])\n",
    "arguments = [x / 100 for x in range(10, 20 + 1)]\n",
    "myres = [func_my(x) for x in arguments]\n",
    "mathres = [func_math(x) for x in arguments]\n",
    "\n",
    "for x, res1, res2 in zip(arguments, myres, mathres):\n",
    "    error = abs(res1 - res2)\n",
    "    result_table.add_row([x, '%.20f' % res2, '%.20f' % res1, '%.20f' % error])\n",
    "print(result_table)"
   ]
  }
 ],
 "metadata": {
  "kernelspec": {
   "display_name": "Python 3",
   "language": "python",
   "name": "python3"
  },
  "language_info": {
   "codemirror_mode": {
    "name": "ipython",
    "version": 3
   },
   "file_extension": ".py",
   "mimetype": "text/x-python",
   "name": "python",
   "nbconvert_exporter": "python",
   "pygments_lexer": "ipython3",
   "version": "3.11.2"
  },
  "orig_nbformat": 4
 },
 "nbformat": 4,
 "nbformat_minor": 2
}
