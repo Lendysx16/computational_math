{
 "cells": [
  {
   "attachments": {},
   "cell_type": "markdown",
   "id": "6762fd3e",
   "metadata": {},
   "source": [
    "## Import"
   ]
  },
  {
   "cell_type": "code",
   "execution_count": null,
   "id": "32816734",
   "metadata": {},
   "outputs": [],
   "source": [
    "import numpy as np"
   ]
  },
  {
   "attachments": {},
   "cell_type": "markdown",
   "id": "3207e3a1",
   "metadata": {},
   "source": [
    "## LU разложение"
   ]
  },
  {
   "cell_type": "code",
   "execution_count": null,
   "id": "d0cde229",
   "metadata": {},
   "outputs": [],
   "source": [
    "def get_max_elem(matrix):\n",
    "    matrix = np.abs(matrix)\n",
    "    max_elem = matrix.max()\n",
    "    if max_elem < 1e-10:\n",
    "        return -1, -1\n",
    "    max_elem_index = np.where(matrix == max_elem)\n",
    "    return max_elem_index[0][0], max_elem_index[1][0]"
   ]
  },
  {
   "cell_type": "code",
   "execution_count": null,
   "id": "863d9b67",
   "metadata": {},
   "outputs": [],
   "source": [
    "def changes(matrix, idx, P, Q, sign):\n",
    "    max_elem_index = get_max_elem(matrix.copy()[idx:, idx:])\n",
    "    max_row, max_col = max_elem_index\n",
    "    if max_row == -1:\n",
    "        return matrix, P, Q, 0\n",
    "    max_row += idx\n",
    "    max_col += idx\n",
    "    if max_row != idx:\n",
    "        sign *= -1\n",
    "        matrix[[idx, max_row]] = matrix[[max_row, idx]]\n",
    "        P[[idx, max_row]] = P[[max_row, idx]]\n",
    "    if max_col != idx:\n",
    "        sign *= -1\n",
    "        matrix[:, [max_col, idx]] = matrix[:, [idx, max_col]]\n",
    "        Q[:, [max_col, idx]] = Q[:, [idx, max_col]]\n",
    "    return matrix, P, Q, sign"
   ]
  },
  {
   "cell_type": "code",
   "execution_count": null,
   "id": "88a92fbd",
   "metadata": {},
   "outputs": [],
   "source": [
    "def lu_factorization(matrix, sign=1):\n",
    "    n = matrix.shape[0]\n",
    "    last_idx = 0\n",
    "    P = np.eye(n)\n",
    "    Q = np.eye(n)\n",
    "    for i in range(n):\n",
    "        matrix, P, Q, sign = changes(matrix, i, P, Q, sign)\n",
    "        if sign == 0:\n",
    "            last_idx = i\n",
    "            break\n",
    "        for j in range(i + 1, n):\n",
    "            k = matrix[j, i] / matrix[i, i]\n",
    "            matrix[j, i:] -= k * matrix[i, i:]\n",
    "            matrix[j, i] = k\n",
    "        last_idx = i\n",
    "    L = np.eye(n)\n",
    "    U = np.zeros((n, n))\n",
    "    for i in range(n):\n",
    "        for j in range(n):\n",
    "            if j < i:\n",
    "                L[i, j] = matrix[i, j]\n",
    "            else:\n",
    "                U[i, j] = matrix[i, j]\n",
    "    return L, U, P, Q, sign, last_idx"
   ]
  },
  {
   "cell_type": "code",
   "execution_count": null,
   "id": "95ccb4c4",
   "metadata": {},
   "outputs": [],
   "source": [
    "# Тест LU == PAQ\n",
    "arr = []\n",
    "for i in range(1000):\n",
    "    size = np.random.randint(2, 10)\n",
    "    a = np.random.randint(0, 256, (size, size)).astype(float)\n",
    "    L, U, P, Q, sign, last_idx = lu_factorization(a.copy(), 1)\n",
    "    LU = L @ U\n",
    "    PA = P @ a @ Q\n",
    "    arr.append(np.allclose(LU, PA))\n",
    "print(np.all(arr))"
   ]
  },
  {
   "attachments": {},
   "cell_type": "markdown",
   "id": "e6b7fd23",
   "metadata": {},
   "source": [
    "## Определитель матрицы через LU разложение"
   ]
  },
  {
   "cell_type": "code",
   "execution_count": null,
   "id": "84be9304",
   "metadata": {},
   "outputs": [],
   "source": [
    "def detA(matrix):\n",
    "    L, U, _, _, sign, last_idx = lu_factorization(matrix.copy())\n",
    "    if last_idx != matrix.shape[0] - 1:\n",
    "        return 0\n",
    "    det = sign\n",
    "    for i in range(matrix.shape[0]):\n",
    "        det *= L[i, i] * U[i, i]\n",
    "    return det\n",
    "\n",
    "\n",
    "def detLU(L, U, sign):\n",
    "    det = sign\n",
    "    for i in range(L.shape[0]):\n",
    "        det *= L[i, i] * U[i, i]\n",
    "    return det"
   ]
  },
  {
   "cell_type": "code",
   "execution_count": null,
   "id": "c4871c90",
   "metadata": {},
   "outputs": [],
   "source": [
    "# Тест detA\n",
    "arr = []\n",
    "for i in range(1000):\n",
    "    size = np.random.randint(2, 10)\n",
    "    a = np.random.randint(0, 256, (size, size)).astype(float)\n",
    "    det_a = detA(a.copy())\n",
    "    arr.append(np.allclose(det_a, np.linalg.det(a)))\n",
    "print(np.all(arr))"
   ]
  },
  {
   "attachments": {},
   "cell_type": "markdown",
   "id": "b3079ad0",
   "metadata": {},
   "source": [
    "## Нахождение системы линеых уравнений вида Ax = b через LU разложение"
   ]
  },
  {
   "cell_type": "code",
   "execution_count": null,
   "id": "e2941047",
   "metadata": {},
   "outputs": [],
   "source": [
    "def solve_linear_system(A, b):\n",
    "    L, U, P, Q, sign, last_idx = lu_factorization(A.copy())\n",
    "    nA = A.shape[0]\n",
    "    detA = detLU(L, U, sign)\n",
    "    if detA == 0:\n",
    "        return np.zeros(nA)\n",
    "    y = np.zeros(nA)\n",
    "    Pb = P @ b\n",
    "    for i in range(nA):\n",
    "        y[i] = Pb[i]\n",
    "        for j in range(i):\n",
    "            y[i] -= L[i, j] * y[j]\n",
    "        y[i] /= L[i, i]\n",
    "    x = np.zeros(nA)\n",
    "    for i in range(nA - 1, -1, -1):\n",
    "        x[i] = y[i]\n",
    "        for j in range(i + 1, nA):\n",
    "            x[i] -= U[i, j] * x[j]\n",
    "        x[i] /= U[i, i]\n",
    "\n",
    "    x = Q @ x\n",
    "    return x"
   ]
  },
  {
   "cell_type": "code",
   "execution_count": null,
   "id": "bbd7f3fb",
   "metadata": {},
   "outputs": [],
   "source": [
    "# Тест solve_linear_system\n",
    "arr = []\n",
    "for i in range(1000):\n",
    "    size = np.random.randint(2, 10)\n",
    "    a = np.random.randint(0, 256, (size, size)).astype(float)\n",
    "    b = np.random.randint(0, 256, size).astype(float)\n",
    "    x = solve_linear_system(a.copy(), b.copy())\n",
    "    arr.append(np.allclose(x, np.linalg.solve(a, b)))\n",
    "print(np.all(arr))"
   ]
  },
  {
   "attachments": {},
   "cell_type": "markdown",
   "id": "5f05fb6c",
   "metadata": {},
   "source": [
    "## Обратная матрица"
   ]
  },
  {
   "cell_type": "code",
   "execution_count": null,
   "id": "b3ae8fb9",
   "metadata": {},
   "outputs": [],
   "source": [
    "def inverse_matrix(matrix):\n",
    "    n = matrix.shape[0]\n",
    "    inv = np.zeros((n, n))\n",
    "    for i in range(n):\n",
    "        b = np.zeros(n)\n",
    "        b[i] = 1\n",
    "        inv[:, i] = solve_linear_system(matrix.copy(), b)\n",
    "    return inv"
   ]
  },
  {
   "cell_type": "code",
   "execution_count": null,
   "id": "085431bc",
   "metadata": {},
   "outputs": [],
   "source": [
    "# Проверка обратной матрицы\n",
    "arr = []\n",
    "for i in range(1000):\n",
    "    size = np.random.randint(2, 10)\n",
    "    a = np.random.randint(0, 256, (size, size)).astype(float)\n",
    "    inv_a = inverse_matrix(a.copy())\n",
    "    arr.append(np.allclose(inv_a, np.linalg.inv(a)))\n",
    "print(np.all(arr))"
   ]
  },
  {
   "attachments": {},
   "cell_type": "markdown",
   "id": "a1d33963",
   "metadata": {},
   "source": [
    "## Число обусловленности"
   ]
  },
  {
   "cell_type": "code",
   "execution_count": null,
   "id": "4a276e4f",
   "metadata": {},
   "outputs": [],
   "source": [
    "def norm_matrix(matrix):\n",
    "    return np.max(np.sum(np.abs(matrix), axis=1))\n",
    "\n",
    "\n",
    "def condition_num(matrix: np.ndarray) -> float:\n",
    "    return norm_matrix(matrix) * norm_matrix(inverse_matrix(matrix))"
   ]
  },
  {
   "cell_type": "code",
   "execution_count": null,
   "id": "2d25a12c",
   "metadata": {},
   "outputs": [],
   "source": [
    "# Проверка числа обусловленности\n",
    "arr = []\n",
    "for i in range(1000):\n",
    "    size = np.random.randint(2, 10)\n",
    "    a = np.random.randint(0, 256, (size, size)).astype(float)\n",
    "    cond_num = condition_num(a.copy())\n",
    "    arr.append(np.allclose(cond_num, np.linalg.cond(a, p=np.inf)))\n",
    "print(np.all(arr))"
   ]
  },
  {
   "attachments": {},
   "cell_type": "markdown",
   "id": "b4953593",
   "metadata": {},
   "source": [
    "## Ранг матрицы"
   ]
  },
  {
   "cell_type": "code",
   "execution_count": null,
   "id": "90bfcb8a",
   "metadata": {},
   "outputs": [],
   "source": [
    "def matrix_rank(matrix):\n",
    "    L, U, _, _, sign, last_idx = lu_factorization(matrix.copy())\n",
    "    return last_idx + 1"
   ]
  },
  {
   "cell_type": "code",
   "execution_count": null,
   "id": "304d2e70",
   "metadata": {},
   "outputs": [],
   "source": [
    "arr = []\n",
    "for i in range(1000):\n",
    "    size = np.random.randint(2, 10)\n",
    "    a = np.random.randint(0, 256, (size, size)).astype(float)\n",
    "    rank = matrix_rank(a.copy())\n",
    "    arr.append(np.allclose(rank, np.linalg.matrix_rank(a)))\n",
    "print(np.all(arr))"
   ]
  },
  {
   "attachments": {},
   "cell_type": "markdown",
   "id": "6c39e4c5",
   "metadata": {},
   "source": [
    "## QR разложение методом отражений"
   ]
  },
  {
   "cell_type": "code",
   "execution_count": null,
   "id": "1d005fc2",
   "metadata": {},
   "outputs": [],
   "source": [
    "def QR_factirization(matrix):\n",
    "    n, m = matrix.shape\n",
    "    Q = np.empty((n, n))\n",
    "    u = np.empty((n, n))\n",
    "    u[:, 0] = matrix[:, 0]\n",
    "    Q[:, 0] = u[:, 0] / np.linalg.norm(u[:, 0])\n",
    "    for i in range(1, n):\n",
    "        u[:, i] = matrix[:, i]\n",
    "        for j in range(i):\n",
    "            u[:, i] -= (matrix[:, i] @ Q[:, j]) * Q[:, j]\n",
    "        Q[:, i] = u[:, i] / np.linalg.norm(u[:, i])\n",
    "\n",
    "    R = np.zeros((n, m))\n",
    "    for i in range(n):\n",
    "        for j in range(i, m):\n",
    "            R[i, j] = matrix[:, j] @ Q[:, i]\n",
    "    return Q, R"
   ]
  },
  {
   "cell_type": "code",
   "execution_count": null,
   "id": "cbf96186",
   "metadata": {},
   "outputs": [],
   "source": [
    "def qr_solve_linear(matrix, b):\n",
    "    Q, R = QR_factirization(matrix)\n",
    "    y = Q.T @ b\n",
    "    x = np.zeros(matrix.shape[1])\n",
    "    for i in range(matrix.shape[1] - 1, -1, -1):\n",
    "        x[i] = y[i]\n",
    "        for j in range(i + 1, matrix.shape[1]):\n",
    "            x[i] -= R[i, j] * x[j]\n",
    "        x[i] /= R[i, i]\n",
    "    return x"
   ]
  },
  {
   "cell_type": "code",
   "execution_count": null,
   "id": "d864f95f",
   "metadata": {},
   "outputs": [],
   "source": [
    "arr = []\n",
    "for i in range(1000):\n",
    "    size = np.random.randint(2, 10)\n",
    "    a = np.random.randint(0, 256, (size, size)).astype(float)\n",
    "    b = np.random.randint(0, 256, size).astype(float)\n",
    "    x = qr_solve_linear(a.copy(), b.copy())\n",
    "    x_linalg = np.linalg.solve(a, b)\n",
    "    arr.append(np.allclose(x, x_linalg))\n",
    "print(np.all(arr))"
   ]
  },
  {
   "attachments": {},
   "cell_type": "markdown",
   "id": "e80fafdd",
   "metadata": {},
   "source": [
    "## Метод зейделя и метод Якоби"
   ]
  },
  {
   "cell_type": "code",
   "execution_count": null,
   "id": "c389bef9",
   "metadata": {},
   "outputs": [],
   "source": [
    "def seidel(matrix, b):\n",
    "    epsilon = 10e-6\n",
    "    n = matrix.shape[0]\n",
    "    x = np.zeros((n, 1))\n",
    "    while True:\n",
    "        new_x = np.copy(x)\n",
    "        s1 = 0\n",
    "        s2 = 0\n",
    "        for i in range(n):\n",
    "            for j in range(i):\n",
    "                s1 += matrix[i][j] * new_x[j]\n",
    "            for j in range(i + 1, n):\n",
    "                s2 += matrix[i][j] * x[j]\n",
    "            new_x[i] = (b[i] - s1 - s2) / matrix[i][i]\n",
    "        if np.linalg.norm(new_x - x) <= epsilon:\n",
    "            break\n",
    "        x = new_x\n",
    "    return x"
   ]
  },
  {
   "cell_type": "code",
   "execution_count": null,
   "id": "3cbdb82a",
   "metadata": {},
   "outputs": [],
   "source": [
    "def getBc(A, b):\n",
    "    n = A.shape[0]\n",
    "    B = A.copy()\n",
    "    for i in range(n):\n",
    "        for j in range(n):\n",
    "            if i != j:\n",
    "                B[i, j] /= -A[i, i]\n",
    "            else:\n",
    "                B[i, j] = 0\n",
    "\n",
    "    c = b.copy()\n",
    "    for i in range(n):\n",
    "        c[i] /= A[i, i]\n",
    "\n",
    "    return B, c\n",
    "\n",
    "#вычисление нормы мотрицы\n",
    "def norm_matrix(matrix):\n",
    "    return np.max(np.sum(np.abs(matrix), axis=1))\n",
    "\n",
    "#||B|| <= q < 1\n",
    "def get_q(B):\n",
    "    normB = norm_matrix(B)\n",
    "    if normB < 1:\n",
    "        q = normB\n",
    "    if normB >= 1:\n",
    "        q = 0.99\n",
    "    return q\n",
    "\n",
    "def Jacobi(A, b):\n",
    "    B, c = getBc(A, b)\n",
    "    q = get_q(B)\n",
    "    cnt = 1\n",
    "    n = B.shape[0]\n",
    "    xnew = c.copy()\n",
    "    norm = norm_matrix(c)\n",
    "\n",
    "    while (q / (1 - q)) * norm > 1e-10:\n",
    "        x = xnew.copy()\n",
    "        xnew = np.dot(B, xnew) + c\n",
    "        diff = xnew - x\n",
    "        norm = norm_matrix(diff)\n",
    "        cnt += 1\n",
    "\n",
    "    return xnew, cnt\n",
    "\n",
    "def Seidel(A, b):\n",
    "    B, c = getBc(A, b)\n",
    "    q = get_q(B)\n",
    "    cnt = 1\n",
    "    n = B.shape[0]\n",
    "    xnew = c.copy()\n",
    "    norm = norm_matrix(c)\n",
    "\n",
    "    while (q / (1 - q)) * norm > 1e-10:\n",
    "        x = xnew.copy()\n",
    "        for i in range(n):\n",
    "            xnew[i] = np.dot(B[i, :], xnew[:]) + c[i]\n",
    "        diff = xnew - x\n",
    "        norm = norm_matrix(diff)\n",
    "        cnt += 1\n",
    "\n",
    "    return xnew, cnt\n",
    "\n",
    "\n",
    "\n",
    "def check_solve(A, x, b):\n",
    "    return np.allclose(A @ x, b)\n",
    "\n",
    "def is_pos(x):\n",
    "    return np.all(np.linalg.eigvals(x) > 0)\n"
   ]
  },
  {
   "cell_type": "code",
   "execution_count": null,
   "id": "deb41b27",
   "metadata": {},
   "outputs": [],
   "source": [
    "def change_to_diag(R):\n",
    "    A = R.copy()\n",
    "    n = A.shape[0]\n",
    "    for i in range(n):\n",
    "        row_sum = np.sum(np.abs(A[i,:])) - np.abs(A[i,i])\n",
    "        if np.abs(A[i,i]) <= row_sum:\n",
    "            A[i,i] = row_sum + n**2\n",
    "    return A\n",
    "\n",
    "def symmetric_matrix(n):\n",
    "    A = np.random.rand(n, n)\n",
    "    return (A + A.T) / 2\n",
    " \n",
    "def diag(A):\n",
    "    for i in range (A.shape[0]):\n",
    "      sum = 0\n",
    "      for j in range (A.shape[0]):\n",
    "          if (i != j):\n",
    "            sum += abs(A[i][j])\n",
    "      if (abs(A[i][i]) <= sum):\n",
    "          return False \n",
    "      return True"
   ]
  },
  {
   "cell_type": "code",
   "execution_count": null,
   "id": "93947f12",
   "metadata": {},
   "outputs": [],
   "source": [
    "from numpy import math\n",
    "\n",
    "\n",
    "n = 3\n",
    "A1 = np.random.randint(-100, 100, (n, n))\n",
    "A1 = A1.astype(np.float64)\n",
    "b = np.random.randint(-100, 100, (n, 1))\n",
    "b = b.astype(np.float64)\n",
    "A = change_to_diag(A1)\n",
    "\n",
    "print('Рандомная матрица A с диагональным преобладанием размером', n, ' * ', n, ': ')\n",
    "print(A)\n",
    "\n",
    "print('Рандомный вектор-столбец b размером', n, ' * ', 1, ': ')\n",
    "print(b)\n",
    "\n",
    "B, c = getBc(A, b)\n",
    "q = get_q(B) \n",
    "\n",
    "xt = np.linalg.solve(A, b)\n",
    "print(\"Верное решение :\", xt.T)\n",
    "\n",
    "print(\"Метод Якоби:\")\n",
    "x, counterJ = Jacobi(A, b)\n",
    "\n",
    "\n",
    "print('x = ', x.T)\n",
    "print(check_solve(A, x, b))\n",
    "\n",
    "\n",
    "print(\"Метод Зейделя:\")\n",
    "x, counterS = Seidel(A, b)\n",
    "\n",
    "\n",
    "print('x = ', x.T)\n",
    "print(check_solve(A, x, b))\n",
    "\n",
    "\n",
    "k = math.ceil(math.log(((1e-10 / norm_matrix(c)) * (1 - q)), q))\n",
    "\n",
    "print(\"Априорная оценка числа необходимых итераций: \", k)\n",
    "print(\"Апостериорная оценка числа итераций Якоби: \", counterJ)\n",
    "print(\"Апостериорная оценка числа итераций Зейделя: \", counterS)\n",
    "\n",
    "print('\\n\\n\\n')\n",
    "\n",
    "\n",
    "A1 = np.array([[0.48760983, 0.45581607, 0.35726152],\n",
    " [0.45581607, 0.73184001, 0.54538553],\n",
    " [0.35726152, 0.54538553, 0.42117855]])\n",
    "\n",
    "if (is_pos(A1) and diag(A1) == False):\n",
    "    print('Положительно определенная матрица А без диагонального преобладания размером', n, ' * ', n, ': ')\n",
    "    print(A1)\n",
    "    B1, c1 = getBc(A1, b)\n",
    "    q1 = get_q(B1) \n",
    "\n",
    "    xt1 = np.linalg.solve(A1, b)\n",
    "    print(\"Верное решение :\", xt1.T)\n",
    "\n",
    "    print(\"Метод Якоби:\")\n",
    "    x1, counterJ1 = Jacobi(A1, b)\n",
    "    print('x = ', x1.T)\n",
    "    print(check_solve(A1, x1, b))\n",
    "\n",
    "    print(\"Метод Зейделя:\")\n",
    "    x1, counterS1 = Seidel(A1, b)\n",
    "    print('x = ', x1.T)\n",
    "    print(check_solve(A1, x1, b))\n",
    "\n",
    "    k1 = math.ceil(math.log(((1e-10 / norm_matrix(c1)) * (1 - q1)), q1))\n",
    "    print(\"Априорная оценка числа необходимых итераций: \", k1)\n",
    "    print(\"Апостериорная оценка числа итераций Якоби: \", counterJ1)\n",
    "    print(\"Апостериорная оценка числа итераций Зейделя: \", counterS1)\n"
   ]
  }
 ],
 "metadata": {
  "kernelspec": {
   "display_name": "Python 3 (ipykernel)",
   "language": "python",
   "name": "python3"
  },
  "language_info": {
   "codemirror_mode": {
    "name": "ipython",
    "version": 3
   },
   "file_extension": ".py",
   "mimetype": "text/x-python",
   "name": "python",
   "nbconvert_exporter": "python",
   "pygments_lexer": "ipython3",
   "version": "3.11.2"
  }
 },
 "nbformat": 4,
 "nbformat_minor": 5
}
