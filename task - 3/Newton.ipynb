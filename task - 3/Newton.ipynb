{
 "cells": [
  {
   "cell_type": "code",
   "execution_count": 234,
   "metadata": {},
   "outputs": [],
   "source": [
    "import numpy as np\n",
    "from numpy import math"
   ]
  },
  {
   "attachments": {},
   "cell_type": "markdown",
   "metadata": {},
   "source": [
    "## Функция, якобиан, декоратор для подсчета времени, начальное приближение"
   ]
  },
  {
   "cell_type": "code",
   "execution_count": 235,
   "metadata": {},
   "outputs": [],
   "source": [
    "\n",
    "def F(x: np.array) -> np.array:\n",
    "    return np.array([\n",
    "        math.cos(x[1] * x[0]) - math.exp(-3 * x[2]) + x[3] * x[4] ** 2 - x[5] - math.sinh(2 * x[7]) * x[8] + 2 * x[\n",
    "            9] + 2.000433974165385440,\n",
    "        math.sin(x[1] * x[0]) + x[2] * x[8] * x[6] - math.exp(-x[9] + x[5]) + 3 * x[4] ** 2 - x[5] * (\n",
    "                x[7] + 1) + 10.886272036407019994,\n",
    "        x[0] - x[1] + x[2] - x[3] + x[4] - x[5] + x[6] - x[7] + x[8] - x[9] - 3.1361904761904761904,\n",
    "        2 * math.cos(-x[8] + x[3]) + x[4] / (x[2] + x[0]) - math.sin(x[1] ** 2) + math.cos(x[6] * x[9]) ** 2 - x[\n",
    "            7] - 0.1707472705022304757,\n",
    "        math.sin(x[4]) + 2 * x[7] * (x[2] + x[0]) - math.exp(-x[6] * (-x[9] + x[5])) + 2 * math.cos(x[1]) - 1.0 / (\n",
    "                -x[8] + x[3]) - 0.3685896273101277862,\n",
    "        math.exp(x[0] - x[3] - x[8]) + x[4] ** 2 / x[7] + math.cos(3 * x[9] * x[1]) / 2 - x[5] * x[\n",
    "            2] + 2.0491086016771875115,\n",
    "        x[1] ** 3 * x[6] - math.sin(x[9] / x[4] + x[7]) + (x[0] - x[5]) * math.cos(x[3]) + x[2] - 0.7380430076202798014,\n",
    "        x[4] * (x[0] - 2 * x[5]) ** 2 - 2 * math.sin(-x[8] + x[2]) + 0.15e1 * x[3] - math.exp(\n",
    "            x[1] * x[6] + x[9]) + 3.5668321989693809040,\n",
    "        7 / x[5] + math.exp(x[4] + x[3]) - 2 * x[1] * x[7] * x[9] * x[6] + 3 * x[8] - 3 * x[0] - 8.4394734508383257499,\n",
    "        x[9] * x[0] + x[8] * x[1] - x[7] * x[2] + math.sin(x[3] + x[4] + x[5]) * x[6] - 0.78238095238095238096]).astype(float)\n",
    "\n",
    "\n",
    "def J(x: np.array) -> np.array:\n",
    "    return np.array(\n",
    "        [[-x[1] * math.sin(x[1] * x[0]), -x[0] * math.sin(x[1] * x[0]), 3 * math.exp(-3 * x[2]), x[4] ** 2,\n",
    "          2 * x[3] * x[4],\n",
    "          -1, 0, -2 * math.cosh(2 * x[7]) * x[8], -math.sinh(2 * x[7]), 2],\n",
    "         [x[1] * math.cos(x[1] * x[0]), x[0] * math.cos(x[1] * x[0]), x[8] * x[6], 0, 6 * x[4],\n",
    "          -math.exp(-x[9] + x[5]) - x[7] - 1, x[2] * x[8], -x[5], x[2] * x[6], math.exp(-x[9] + x[5])],\n",
    "         [1, -1, 1, -1, 1, -1, 1, -1, 1, -1],\n",
    "         [-x[4] / (x[2] + x[0]) ** 2, -2 * x[1] * math.cos(x[1] ** 2), -x[4] / (x[2] + x[0]) ** 2,\n",
    "          -2 * math.sin(-x[8] + x[3]),\n",
    "          1.0 / (x[2] + x[0]), 0, -2 * math.cos(x[6] * x[9]) * x[9] * math.sin(x[6] * x[9]), -1,\n",
    "          2 * math.sin(-x[8] + x[3]), -2 * math.cos(x[6] * x[9]) * x[6] * math.sin(x[6] * x[9])],\n",
    "         [2 * x[7], -2 * math.sin(x[1]), 2 * x[7], 1.0 / (-x[8] + x[3]) ** 2, math.cos(x[4]),\n",
    "          x[6] * math.exp(-x[6] * (-x[9] + x[5])), -(x[9] - x[5]) * math.exp(-x[6] * (-x[9] + x[5])),\n",
    "          2 * x[2] + 2 * x[0],\n",
    "          -1.0 / (-x[8] + x[3]) ** 2, -x[6] * math.exp(-x[6] * (-x[9] + x[5]))],\n",
    "         [math.exp(x[0] - x[3] - x[8]), -1.5 * x[9] * math.sin(3 * x[9] * x[1]), -x[5], -math.exp(x[0] - x[3] - x[8]),\n",
    "          2 * x[4] / x[7], -x[2], 0, -x[4] ** 2 / x[7] ** 2, -math.exp(x[0] - x[3] - x[8]),\n",
    "          -1.5 * x[1] * math.sin(3 * x[9] * x[1])],\n",
    "         [math.cos(x[3]), 3 * x[1] ** 2 * x[6], 1, -(x[0] - x[5]) * math.sin(x[3]),\n",
    "          x[9] / x[4] ** 2 * math.cos(x[9] / x[4] + x[7]),\n",
    "          -math.cos(x[3]), x[1] ** 3, -math.cos(x[9] / x[4] + x[7]), 0, -1.0 / x[4] * math.cos(x[9] / x[4] + x[7])],\n",
    "         [2 * x[4] * (x[0] - 2 * x[5]), -x[6] * math.exp(x[1] * x[6] + x[9]), -2 * math.cos(-x[8] + x[2]), 1.5,\n",
    "          (x[0] - 2 * x[5]) ** 2, -4 * x[4] * (x[0] - 2 * x[5]), -x[1] * math.exp(x[1] * x[6] + x[9]), 0,\n",
    "          2 * math.cos(-x[8] + x[2]),\n",
    "          -math.exp(x[1] * x[6] + x[9])],\n",
    "         [-3, -2 * x[7] * x[9] * x[6], 0, math.exp(x[4] + x[3]), math.exp(x[4] + x[3]),\n",
    "          -7.0 / x[5] ** 2, -2 * x[1] * x[7] * x[9], -2 * x[1] * x[9] * x[6], 3, -2 * x[1] * x[7] * x[6]],\n",
    "         [x[9], x[8], -x[7], math.cos(x[3] + x[4] + x[5]) * x[6], math.cos(x[3] + x[4] + x[5]) * x[6],\n",
    "          math.cos(x[3] + x[4] + x[5]) * x[6], math.sin(x[3] + x[4] + x[5]), -x[2], x[1], x[0]]], dtype=float)"
   ]
  },
  {
   "cell_type": "code",
   "execution_count": 236,
   "metadata": {},
   "outputs": [],
   "source": [
    "from time import time\n",
    "def time_check(func):\n",
    "    def wrapper(*args, **kwargs):\n",
    "        start = time()\n",
    "        res = func(*args, **kwargs)\n",
    "        end = time() - start\n",
    "        return res, end\n",
    "    return wrapper"
   ]
  },
  {
   "cell_type": "code",
   "execution_count": 237,
   "metadata": {},
   "outputs": [],
   "source": [
    "x0 = np.array([0.5, 0.5, 1.5, -1.0, -0.5, 1.5, 0.5, -0.5, 1.5, -1.5])\n",
    "eps = 1e-6\n",
    "MAX_ITER = 4000"
   ]
  },
  {
   "attachments": {},
   "cell_type": "markdown",
   "metadata": {},
   "source": [
    "## Обычный метод Ньютона"
   ]
  },
  {
   "attachments": {},
   "cell_type": "markdown",
   "metadata": {},
   "source": [
    "![Обычный метод Ньютона ](./images/newton_simple.png)"
   ]
  },
  {
   "cell_type": "code",
   "execution_count": 238,
   "metadata": {},
   "outputs": [],
   "source": [
    "@time_check\n",
    "def newton(x):\n",
    "    iterations = 0\n",
    "    operations = 0\n",
    "    n = F(x).shape[0]\n",
    "    while iterations < MAX_ITER:\n",
    "        x_old = x.copy()\n",
    "        x -= np.linalg.inv(J(x)).dot(F(x))\n",
    "        operations += n ** 3 + n ** 2\n",
    "        iterations += 1\n",
    "        if np.linalg.norm(x - x_old) < eps:\n",
    "            break\n",
    "    return x, iterations, operations"
   ]
  },
  {
   "cell_type": "code",
   "execution_count": 239,
   "metadata": {},
   "outputs": [
    {
     "name": "stdout",
     "output_type": "stream",
     "text": [
      "x =  [ 0.37306471  0.59384585  1.61029711 -0.56065657 -0.3439438   1.28206619\n",
      "  0.22015631 -0.22996142  1.2535575  -1.10835269]\n",
      "iterations =  6\n",
      "operations =  6600\n",
      "time =  0.002029895782470703\n",
      "F(x) =  [ 0.00000000e+00  0.00000000e+00  0.00000000e+00 -3.88578059e-16\n",
      " -6.66133815e-16  0.00000000e+00  1.11022302e-16  4.44089210e-16\n",
      "  1.77635684e-15  2.22044605e-16]\n"
     ]
    }
   ],
   "source": [
    "tmp_res = newton(x0.copy())\n",
    "res, iterations, operations = tmp_res[0]\n",
    "solution_time = tmp_res[1]\n",
    "\n",
    "print(\"x = \", res)\n",
    "print(\"iterations = \", iterations)\n",
    "print(\"operations = \", operations)\n",
    "print(\"time = \", solution_time)\n",
    "print(\"F(x) = \", F(res))\n",
    "\n"
   ]
  },
  {
   "attachments": {},
   "cell_type": "markdown",
   "metadata": {},
   "source": [
    "# Модифицированный метод Ньютона"
   ]
  },
  {
   "attachments": {},
   "cell_type": "markdown",
   "metadata": {},
   "source": [
    "С пересчетами на каждой итерации"
   ]
  },
  {
   "cell_type": "code",
   "execution_count": 240,
   "metadata": {},
   "outputs": [],
   "source": [
    "def get_max_elem(matrix):\n",
    "    matrix = np.abs(matrix)\n",
    "    max_elem = matrix.max()\n",
    "    if max_elem < 1e-10:\n",
    "        return -1, -1\n",
    "    max_elem_index = np.where(matrix == max_elem)\n",
    "    return max_elem_index[0][0], max_elem_index[1][0]\n",
    "\n",
    "def changes(matrix, idx, P, Q, sign):\n",
    "    max_elem_index = get_max_elem(matrix.copy()[idx:, idx:])\n",
    "    max_row, max_col = max_elem_index\n",
    "    if max_row == -1:\n",
    "        return matrix, P, Q, 0\n",
    "    max_row += idx\n",
    "    max_col += idx\n",
    "    if max_row != idx:\n",
    "        sign *= -1\n",
    "        matrix[[idx, max_row]] = matrix[[max_row, idx]]\n",
    "        P[[idx, max_row]] = P[[max_row, idx]]\n",
    "    if max_col != idx:\n",
    "        sign *= -1\n",
    "        matrix[:, [max_col, idx]] = matrix[:, [idx, max_col]]\n",
    "        Q[:, [max_col, idx]] = Q[:, [idx, max_col]]\n",
    "    return matrix, P, Q, sign\n",
    "\n",
    "def lu_factorization(matrix, sign=1):\n",
    "    n = matrix.shape[0]\n",
    "    last_idx = 0\n",
    "    P = np.eye(n)\n",
    "    Q = np.eye(n)\n",
    "    for i in range(n):\n",
    "        matrix, P, Q, sign = changes(matrix, i, P, Q, sign)\n",
    "        if sign == 0:\n",
    "            last_idx = i\n",
    "            break\n",
    "        for j in range(i + 1, n):\n",
    "            k = matrix[j, i] / matrix[i, i]\n",
    "            matrix[j, i:] -= k * matrix[i, i:]\n",
    "            matrix[j, i] = k\n",
    "        last_idx = i\n",
    "    L = np.eye(n)\n",
    "    U = np.zeros((n, n))\n",
    "    for i in range(n):\n",
    "        for j in range(n):\n",
    "            if j < i:\n",
    "                L[i, j] = matrix[i, j]\n",
    "            else:\n",
    "                U[i, j] = matrix[i, j]\n",
    "    return L, U, P, Q, sign, last_idx\n",
    "\n",
    "def solve_linear_system(A, b):\n",
    "    L, U, P, Q, sign, last_idx = lu_factorization(A.copy())  \n",
    "    nA = A.shape[0]\n",
    "    detA = detLU(L, U, sign)\n",
    "    if detA == 0:\n",
    "        return np.zeros(nA)\n",
    "    y = np.zeros(nA)\n",
    "    Pb = P @ b\n",
    "    for i in range(nA):\n",
    "        y[i] = Pb[i]\n",
    "        for j in range(i):\n",
    "            y[i] -= L[i, j] * y[j]\n",
    "        y[i] /= L[i, i]\n",
    "    x = np.zeros(nA)\n",
    "    for i in range(nA - 1, -1, -1):\n",
    "        x[i] = y[i]\n",
    "        for j in range(i + 1, nA):\n",
    "            x[i] -= U[i, j] * x[j]\n",
    "        x[i] /= U[i, i]\n",
    "\n",
    "    x = Q @ x\n",
    "    return x\n",
    "\n",
    "def detA(matrix):\n",
    "    L, U, _, _, sign, last_idx = lu_factorization(matrix.copy())\n",
    "    if last_idx != matrix.shape[0] - 1:\n",
    "        return 0\n",
    "    det = sign\n",
    "    for i in range(matrix.shape[0]):\n",
    "        det *= L[i, i] * U[i, i]\n",
    "    return det\n",
    "\n",
    "\n",
    "def detLU(L, U, sign):\n",
    "    det = sign\n",
    "    for i in range(L.shape[0]):\n",
    "        det *= L[i, i] * U[i, i]\n",
    "    return det\n",
    "\n",
    "\n",
    "def solve_linear_system_with_LUPQ(L, U, P, Q, b):                    \n",
    "    nA = L.shape[0]\n",
    "    y = np.zeros(nA)\n",
    "    Pb = P @ b\n",
    "    for i in range(nA):\n",
    "        y[i] = Pb[i]\n",
    "        for j in range(i):\n",
    "            y[i] -= L[i, j] * y[j]\n",
    "        y[i] /= L[i, i]\n",
    "    x = np.zeros(nA)\n",
    "    for i in range(nA - 1, -1, -1):\n",
    "        x[i] = y[i]\n",
    "        for j in range(i + 1, nA):\n",
    "            x[i] -= U[i, j] * x[j]\n",
    "        x[i] /= U[i, i]\n",
    "\n",
    "    x = Q @ x\n",
    "    return x"
   ]
  },
  {
   "cell_type": "code",
   "execution_count": 241,
   "metadata": {},
   "outputs": [],
   "source": [
    "@time_check\n",
    "def modified_newton(x):\n",
    "    iterations = 0\n",
    "    operations = 0\n",
    "    n = J(x).shape[0]\n",
    "    while iterations < MAX_ITER:\n",
    "        x_old = x.copy()\n",
    "        delta = np.array([*solve_linear_system(J(x), -F(x))])\n",
    "        operations += 2 * n ** 2 + n\n",
    "        operations += n ** 3\n",
    "        x += delta\n",
    "        iterations += 1\n",
    "        if np.linalg.norm(x - x_old) < eps:\n",
    "            break\n",
    "    return x, iterations, operations"
   ]
  },
  {
   "cell_type": "code",
   "execution_count": 242,
   "metadata": {},
   "outputs": [
    {
     "name": "stdout",
     "output_type": "stream",
     "text": [
      "x =  [ 0.37306471  0.59384585  1.61029711 -0.56065657 -0.3439438   1.28206619\n",
      "  0.22015631 -0.22996142  1.2535575  -1.10835269]\n",
      "iterations =  6\n",
      "operations =  7260\n",
      "time =  0.010001420974731445\n",
      "F(x) =  [ 0.00000000e+00  0.00000000e+00  0.00000000e+00 -3.88578059e-16\n",
      " -6.66133815e-16  0.00000000e+00  1.11022302e-16  4.44089210e-16\n",
      "  1.77635684e-15  2.22044605e-16]\n",
      "True\n"
     ]
    }
   ],
   "source": [
    "tmp_res = modified_newton(x0.copy())\n",
    "res_mod, iterations, operations = tmp_res[0]\n",
    "solution_time = tmp_res[1]\n",
    "print(\"x = \", res)\n",
    "print(\"iterations = \", iterations)\n",
    "print(\"operations = \", operations)\n",
    "print(\"time = \", solution_time)\n",
    "print(\"F(x) = \", F(res))\n",
    "print(np.allclose(res, res_mod))"
   ]
  },
  {
   "attachments": {},
   "cell_type": "markdown",
   "metadata": {},
   "source": [
    "## Модифицированный метод Ньютона с подсчетом LU для J в начальной точке"
   ]
  },
  {
   "cell_type": "code",
   "execution_count": 243,
   "metadata": {},
   "outputs": [],
   "source": [
    "@time_check\n",
    "def modified_newton_start_J(x):\n",
    "    try:\n",
    "        L, U, P, Q, _, _ = lu_factorization(J(x).copy())\n",
    "        iterations = 0\n",
    "        operations = 0\n",
    "        n = J(x).shape[0]\n",
    "        while iterations < MAX_ITER:\n",
    "            x_old = x.copy()\n",
    "            delta = np.array([*solve_linear_system_with_LUPQ(L, U, P, Q, -F(x))])\n",
    "            operations += 2 * n ** 2 + n\n",
    "            x += delta\n",
    "            iterations += 1\n",
    "            if np.linalg.norm(x - x_old) < eps:\n",
    "                break\n",
    "        return x, iterations, operations\n",
    "    except OverflowError:\n",
    "        return None, iterations, None"
   ]
  },
  {
   "cell_type": "code",
   "execution_count": 244,
   "metadata": {},
   "outputs": [
    {
     "name": "stdout",
     "output_type": "stream",
     "text": [
      "x =  [ 0.37306471  0.59384585  1.61029711 -0.56065657 -0.3439438   1.28206619\n",
      "  0.22015631 -0.22996142  1.2535575  -1.10835269]\n",
      "iterations =  108\n",
      "operations =  22680\n",
      "time =  0.03700971603393555\n",
      "F(x) =  [ 0.00000000e+00  0.00000000e+00  0.00000000e+00 -3.88578059e-16\n",
      " -6.66133815e-16  0.00000000e+00  1.11022302e-16  4.44089210e-16\n",
      "  1.77635684e-15  2.22044605e-16]\n",
      "True\n"
     ]
    }
   ],
   "source": [
    "tmp_res = modified_newton_start_J(x0.copy())\n",
    "res_mod_2, iterations, operations = tmp_res[0]\n",
    "solution_time = tmp_res[1]\n",
    "print(\"x = \", res)\n",
    "print(\"iterations = \", iterations)\n",
    "print(\"operations = \", operations)\n",
    "print(\"time = \", solution_time)\n",
    "print(\"F(x) = \", F(res))\n",
    "print(np.allclose(res, res_mod_2))"
   ]
  },
  {
   "attachments": {},
   "cell_type": "markdown",
   "metadata": {},
   "source": [
    "## Модифицированный метод Ньютона с пересчетом LU для J первые k итераций"
   ]
  },
  {
   "cell_type": "code",
   "execution_count": 245,
   "metadata": {},
   "outputs": [],
   "source": [
    "@time_check\n",
    "def modified_newton_start_Jk(x, k = 1):\n",
    "    L, U, P, Q, _, _ = lu_factorization(J(x).copy())\n",
    "    iterations = 0\n",
    "    operations = 0\n",
    "    n = J(x).shape[0]\n",
    "    while iterations < MAX_ITER:\n",
    "        x_old = x.copy()\n",
    "        delta = np.array([*solve_linear_system_with_LUPQ(L, U, P, Q, -F(x))])\n",
    "        operations += 2 * n ** 2 + n\n",
    "        x += delta\n",
    "        iterations += 1\n",
    "        if np.linalg.norm(x - x_old) < eps:\n",
    "            break\n",
    "        if k > iterations:\n",
    "            L, U, P, Q, _, _ = lu_factorization(J(x).copy())\n",
    "            operations += n ** 3\n",
    "    return x, iterations, operations"
   ]
  },
  {
   "cell_type": "code",
   "execution_count": 246,
   "metadata": {},
   "outputs": [
    {
     "name": "stdout",
     "output_type": "stream",
     "text": [
      "x =  [ 0.37306471  0.59384585  1.61029711 -0.56065657 -0.3439438   1.28206619\n",
      "  0.22015631 -0.22996142  1.2535575  -1.10835269]\n",
      "iterations =  6\n",
      "operations =  6260\n",
      "time =  0.008002281188964844\n",
      "F(x) =  [ 0.00000000e+00  0.00000000e+00  0.00000000e+00 -3.88578059e-16\n",
      " -6.66133815e-16  0.00000000e+00  1.11022302e-16  4.44089210e-16\n",
      "  1.77635684e-15  2.22044605e-16]\n",
      "True\n"
     ]
    }
   ],
   "source": [
    "tmp_res = modified_newton_start_Jk(x0.copy(), k = 6)\n",
    "res_mod_3, iterations, operations = tmp_res[0]\n",
    "solution_time = tmp_res[1]\n",
    "print(\"x = \", res)\n",
    "print(\"iterations = \", iterations)\n",
    "print(\"operations = \", operations)\n",
    "print(\"time = \", solution_time)\n",
    "print(\"F(x) = \", F(res))\n",
    "print(np.allclose(res, res_mod_3))"
   ]
  },
  {
   "attachments": {},
   "cell_type": "markdown",
   "metadata": {},
   "source": [
    "## Модифицированный метод Ньютона с пересчетом каждые k итераций"
   ]
  },
  {
   "cell_type": "code",
   "execution_count": 247,
   "metadata": {},
   "outputs": [],
   "source": [
    "@time_check\n",
    "def modified_newton_cycle_k(x, k = 1):\n",
    "    L, U, P, Q, _, _ = lu_factorization(J(x).copy())\n",
    "    iterations = 0\n",
    "    operations = 0\n",
    "    n = J(x).shape[0]\n",
    "    while iterations < MAX_ITER:\n",
    "        x_old = x.copy()\n",
    "        delta = np.array([*solve_linear_system_with_LUPQ(L, U, P, Q, -F(x))])\n",
    "        operations += 2 * n ** 2 + n\n",
    "        x += delta\n",
    "        iterations += 1\n",
    "        if np.linalg.norm(x - x_old) < eps:\n",
    "            break\n",
    "        if iterations % k == 0:\n",
    "            L, U, P, Q, _, _ = lu_factorization(J(x).copy())\n",
    "            operations += n ** 3\n",
    "    return x, iterations, operations"
   ]
  },
  {
   "cell_type": "code",
   "execution_count": 248,
   "metadata": {},
   "outputs": [
    {
     "name": "stdout",
     "output_type": "stream",
     "text": [
      "x =  [ 0.37306471  0.59384585  1.61029711 -0.56065657 -0.3439438   1.28206619\n",
      "  0.22015631 -0.22996142  1.2535575  -1.10835269]\n",
      "iterations =  10\n",
      "operations =  6100\n",
      "time =  0.009001970291137695\n",
      "F(x) =  [ 0.00000000e+00  0.00000000e+00  0.00000000e+00 -3.88578059e-16\n",
      " -6.66133815e-16  0.00000000e+00  1.11022302e-16  4.44089210e-16\n",
      "  1.77635684e-15  2.22044605e-16]\n",
      "True\n"
     ]
    }
   ],
   "source": [
    "tmp_res = modified_newton_cycle_k(x0.copy(), k = 2)\n",
    "res_mod_4, iterations, operations = tmp_res[0]\n",
    "solution_time = tmp_res[1]\n",
    "print(\"x = \", res)\n",
    "print(\"iterations = \", iterations)\n",
    "print(\"operations = \", operations)\n",
    "print(\"time = \", solution_time)\n",
    "print(\"F(x) = \", F(res))\n",
    "print(np.allclose(res, res_mod_4))"
   ]
  },
  {
   "attachments": {},
   "cell_type": "markdown",
   "metadata": {},
   "source": [
    "## Общая реализация с параметрами m и k"
   ]
  },
  {
   "cell_type": "code",
   "execution_count": 249,
   "metadata": {},
   "outputs": [],
   "source": [
    "# ? "
   ]
  },
  {
   "attachments": {},
   "cell_type": "markdown",
   "metadata": {},
   "source": [
    "## X0[4] = -0.2"
   ]
  },
  {
   "cell_type": "code",
   "execution_count": 251,
   "metadata": {},
   "outputs": [
    {
     "name": "stdout",
     "output_type": "stream",
     "text": [
      "newton\n",
      "x =  [ 0.19552481  0.67428139  2.07953929 -0.75401024 -0.06440347  1.30032885\n",
      " -0.03466094 -0.13112513  1.06520985 -0.9844558 ]\n",
      "iterations =  10\n",
      "operations =  11000\n",
      "time =  0.003000974655151367\n",
      "F(x) =  [-1.02140518e-14 -1.13686838e-13 -4.44089210e-16 -1.81077375e-13\n",
      " -4.80171458e-13  3.68594044e-14  2.29157804e-11 -3.86357613e-14\n",
      " -5.86197757e-14  3.33066907e-14]\n",
      "True\n",
      "\n",
      "\n",
      "\n",
      "\n",
      "modified_newton\n",
      "x =  [ 0.19552481  0.67428139  2.07953929 -0.75401024 -0.06440347  1.30032885\n",
      " -0.03466094 -0.13112513  1.06520985 -0.9844558 ]\n",
      "iterations =  10\n",
      "operations =  12100\n",
      "time =  0.014001846313476562\n",
      "F(x) =  [-1.02140518e-14 -1.08357767e-13 -4.44089210e-16 -1.81077375e-13\n",
      " -4.80282480e-13  3.64153152e-14  2.29162245e-11 -3.90798505e-14\n",
      " -5.86197757e-14  3.33066907e-14]\n",
      "True\n",
      "\n",
      "\n",
      "\n",
      "\n",
      "modified_newton_start_J\n",
      "iterations =  30\n",
      "\n",
      "\n",
      "\n",
      "modified_newton_start_Jk\n",
      "x =  [ 0.37306483  0.59384582  1.61029704 -0.56065646 -0.34394383  1.28206621\n",
      "  0.22015633 -0.22996143  1.25355762 -1.10835263]\n",
      "iterations =  24\n",
      "operations =  11040\n",
      "time =  0.012002944946289062\n",
      "F(x) =  [ 1.53394323e-07  4.37224022e-07  4.44089210e-16  1.90098112e-08\n",
      " -3.84676363e-08 -8.81442741e-09 -4.80797539e-07  4.52121286e-07\n",
      " -7.21711277e-08 -4.43871518e-08]\n",
      "False\n",
      "\n",
      "\n",
      "\n",
      "\n",
      "modified_newton_cycle_k\n",
      "x =  [ 0.28454068  0.65670207  1.93561602 -0.66625495 -0.14784357  1.29914641\n",
      "  0.02971274 -0.15388863  1.15599746 -1.01387205]\n",
      "iterations =  14\n",
      "operations =  3940\n",
      "time =  0.0050046443939208984\n",
      "F(x) =  [ 5.47860690e-09  6.34016395e-09 -4.44089210e-16 -3.37495681e-09\n",
      " -2.27073480e-08  7.66160033e-08  2.21384197e-08  5.98371215e-08\n",
      " -6.41963354e-08  2.56581044e-08]\n",
      "False\n",
      "\n",
      "\n",
      "\n",
      "\n"
     ]
    }
   ],
   "source": [
    "x_copy = x0.copy()\n",
    "x_copy[4] = -0.2\n",
    "tmp_res = 0\n",
    "iterations = 0\n",
    "dict_wth_funcs = {\"newton\": newton, \"modified_newton\": modified_newton, \"modified_newton_start_J\": modified_newton_start_J, \"modified_newton_start_Jk\": modified_newton_start_Jk, \"modified_newton_cycle_k\": modified_newton_cycle_k}\n",
    "for key in dict_wth_funcs:\n",
    "    print(key)\n",
    "    if key not in [\"newton\", \"modified_newton\", \"modified_newton_start_J\"]:\n",
    "        tmp_res = dict_wth_funcs[key](x_copy.copy(), k = 7)\n",
    "    else:\n",
    "        tmp_res = dict_wth_funcs[key](x_copy.copy())\n",
    "    res, iterations, operations = tmp_res[0]\n",
    "    solution_time = tmp_res[1]\n",
    "    if res is None:\n",
    "        print(\"iterations = \", iterations, end=\"\\n\\n\\n\\n\")\n",
    "    else:\n",
    "        print(\"x = \", res)\n",
    "        print(\"iterations = \", iterations)\n",
    "        print(\"operations = \", operations)\n",
    "        print(\"time = \", solution_time)\n",
    "        f_res = F(res)\n",
    "        print(\"F(x) = \", f_res)\n",
    "        print(np.allclose(f_res, np.zeros(f_res.shape)))\n",
    "        print('\\n\\n\\n')\n",
    "  \n"
   ]
  },
  {
   "cell_type": "code",
   "execution_count": null,
   "metadata": {},
   "outputs": [],
   "source": [
    "\n"
   ]
  }
 ],
 "metadata": {
  "kernelspec": {
   "display_name": "Python 3",
   "language": "python",
   "name": "python3"
  },
  "language_info": {
   "codemirror_mode": {
    "name": "ipython",
    "version": 3
   },
   "file_extension": ".py",
   "mimetype": "text/x-python",
   "name": "python",
   "nbconvert_exporter": "python",
   "pygments_lexer": "ipython3",
   "version": "3.11.3"
  },
  "orig_nbformat": 4
 },
 "nbformat": 4,
 "nbformat_minor": 2
}
